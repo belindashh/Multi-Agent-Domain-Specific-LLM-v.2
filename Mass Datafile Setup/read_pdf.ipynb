{
 "cells": [
  {
   "cell_type": "code",
   "execution_count": 1,
   "metadata": {},
   "outputs": [
    {
     "name": "stdout",
     "output_type": "stream",
     "text": [
      "Requirement already satisfied: grobid-client-python in c:\\users\\user\\school\\ism v.1 docker\\.venv\\lib\\site-packages (0.0.9)\n",
      "Requirement already satisfied: requests in c:\\users\\user\\school\\ism v.1 docker\\.venv\\lib\\site-packages (from grobid-client-python) (2.32.3)\n",
      "Requirement already satisfied: charset-normalizer<4,>=2 in c:\\users\\user\\school\\ism v.1 docker\\.venv\\lib\\site-packages (from requests->grobid-client-python) (3.4.1)\n",
      "Requirement already satisfied: idna<4,>=2.5 in c:\\users\\user\\school\\ism v.1 docker\\.venv\\lib\\site-packages (from requests->grobid-client-python) (3.10)\n",
      "Requirement already satisfied: urllib3<3,>=1.21.1 in c:\\users\\user\\school\\ism v.1 docker\\.venv\\lib\\site-packages (from requests->grobid-client-python) (2.3.0)\n",
      "Requirement already satisfied: certifi>=2017.4.17 in c:\\users\\user\\school\\ism v.1 docker\\.venv\\lib\\site-packages (from requests->grobid-client-python) (2025.1.31)\n"
     ]
    },
    {
     "name": "stderr",
     "output_type": "stream",
     "text": [
      "\n",
      "[notice] A new release of pip is available: 23.2.1 -> 25.0.1\n",
      "[notice] To update, run: python.exe -m pip install --upgrade pip\n"
     ]
    }
   ],
   "source": [
    "!pip install grobid-client-python "
   ]
  },
  {
   "cell_type": "code",
   "execution_count": 2,
   "metadata": {},
   "outputs": [
    {
     "name": "stdout",
     "output_type": "stream",
     "text": [
      "GROBID server is up and running\n"
     ]
    }
   ],
   "source": [
    "from grobid_client.grobid_client import GrobidClient\n",
    "client = GrobidClient(config_path=\"config.json\", timeout=600)"
   ]
  },
  {
   "cell_type": "code",
   "execution_count": 3,
   "metadata": {},
   "outputs": [],
   "source": [
    "#Edit n based on number of core available\n",
    "client.process(\"processFulltextDocument\", \"pdf_input\", output=\"../tei_output\", consolidate_citations=True, tei_coordinates=True, force=True, n=15)"
   ]
  }
 ],
 "metadata": {
  "kernelspec": {
   "display_name": ".venv",
   "language": "python",
   "name": "python3"
  },
  "language_info": {
   "codemirror_mode": {
    "name": "ipython",
    "version": 3
   },
   "file_extension": ".py",
   "mimetype": "text/x-python",
   "name": "python",
   "nbconvert_exporter": "python",
   "pygments_lexer": "ipython3",
   "version": "3.12.0"
  }
 },
 "nbformat": 4,
 "nbformat_minor": 2
}
